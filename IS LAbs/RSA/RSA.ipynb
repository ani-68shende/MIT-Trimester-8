{
 "cells": [
  {
   "cell_type": "code",
   "execution_count": 4,
   "id": "77bd4b29",
   "metadata": {},
   "outputs": [
    {
     "name": "stdout",
     "output_type": "stream",
     "text": [
      "Enter the message: hello\n",
      "b\".\\xa5X\\x02W\\xf68\\xecD\\x92e)Xg\\x18`\\xe1[x\\xd4\\x85DK\\xe5\\xda\\x94`d'\\xab\\x8b[\\xbd\\x1a\\x11+\\xa7\\xb8NZ3_\\x82T\\xbe1\\xbf\\x11'#e,\\xd5\\xf0Z\\xe1@+\\xef\\r\\xe4\\x0e\\xe0h\"\n",
      "Decrypted text: hello\n"
     ]
    }
   ],
   "source": [
    "import rsa\n",
    "\n",
    "(publicKey, privateKey) = rsa.newkeys(512)\n",
    "message = str(input(\"Enter the message: \"))\n",
    "\n",
    "encryptedText = rsa.encrypt(message.encode(), publicKey)\n",
    "print(encryptedText)\n",
    "\n",
    "decryptedText = rsa.decrypt(encryptedText, privateKey)\n",
    "print(\"Decrypted text: \" + decryptedText.decode())"
   ]
  },
  {
   "cell_type": "code",
   "execution_count": null,
   "id": "e6a71c71",
   "metadata": {},
   "outputs": [],
   "source": []
  }
 ],
 "metadata": {
  "kernelspec": {
   "display_name": "Python 3",
   "language": "python",
   "name": "python3"
  },
  "language_info": {
   "codemirror_mode": {
    "name": "ipython",
    "version": 3
   },
   "file_extension": ".py",
   "mimetype": "text/x-python",
   "name": "python",
   "nbconvert_exporter": "python",
   "pygments_lexer": "ipython3",
   "version": "3.8.8"
  }
 },
 "nbformat": 4,
 "nbformat_minor": 5
}
