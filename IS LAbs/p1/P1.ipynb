{
 "cells": [
  {
   "cell_type": "code",
   "execution_count": 2,
   "id": "638458f0",
   "metadata": {},
   "outputs": [],
   "source": [
    "import hashlib\n",
    "def to(file,write):\n",
    "    for each in file:\n",
    "        input_to_hash = hashlib.sha256(each.encode())\n",
    "        write.write(input_to_hash.hexdigest())\n",
    "        write.write(\"\\n\")\n",
    "write=open('SHA.txt','w')\n",
    "file=open('raw_text.txt','r')        \n",
    "to(file,write) \n",
    "write.close()"
   ]
  },
  {
   "cell_type": "code",
   "execution_count": null,
   "id": "bc01ac66",
   "metadata": {},
   "outputs": [],
   "source": []
  }
 ],
 "metadata": {
  "kernelspec": {
   "display_name": "Python 3",
   "language": "python",
   "name": "python3"
  },
  "language_info": {
   "codemirror_mode": {
    "name": "ipython",
    "version": 3
   },
   "file_extension": ".py",
   "mimetype": "text/x-python",
   "name": "python",
   "nbconvert_exporter": "python",
   "pygments_lexer": "ipython3",
   "version": "3.8.8"
  }
 },
 "nbformat": 4,
 "nbformat_minor": 5
}
